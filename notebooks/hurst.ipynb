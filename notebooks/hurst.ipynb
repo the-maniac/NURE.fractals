{
 "cells": [
  {
   "cell_type": "code",
   "execution_count": 5,
   "metadata": {
    "collapsed": true
   },
   "outputs": [
    {
     "data": {
      "text/plain": [
       "0.41940544850924516"
      ]
     },
     "execution_count": 5,
     "metadata": {},
     "output_type": "execute_result"
    }
   ],
   "source": [
    "import numpy as np\n",
    "import math\n",
    "\n",
    "def hurst(data):\n",
    "    RS = []\n",
    "    N = len(data)\n",
    "    spl = 2\n",
    "    min_n = 10\n",
    "    # number of chunks\n",
    "    # max_window = N-1\n",
    "    # window_sizes = list(map(\n",
    "    #     lambda x: int(10**x),\n",
    "    #     np.arange(math.log10(min_n), math.log10(max_window), 0.25)))\n",
    "    # window_sizes.append(N)\n",
    "    # for n in window_sizes:\n",
    "    m = int(np.floor(N / spl))\n",
    "    for n in range(min_n, m + 1):\n",
    "        # subsets\n",
    "        subsets = [data[i:i + n] for i in range(0, N, n)]\n",
    "\n",
    "        if N % n > 0:\n",
    "            subsets.pop()\n",
    "\n",
    "        set_lng = len(subsets)\n",
    "        R = 0\n",
    "        S = 0\n",
    "        for subset in subsets:\n",
    "            subset = np.array(subset)\n",
    "            subset = subset[1:] - subset[:-1]\n",
    "            Z = np.cumsum(subset - np.mean(subset))\n",
    "            R += max(Z) - min(Z)\n",
    "            S += np.std(subset)\n",
    "        RS.append((R / set_lng, S / set_lng, n))\n",
    "\n",
    "    lRS, ln = [], []\n",
    "    for d in RS:\n",
    "        R, S, n = d\n",
    "        lRS.append(np.log(R/S))\n",
    "        ln.append(np.log(n))\n",
    "\n",
    "    H = np.polyfit(ln, lRS, 1)[0]\n",
    "    return H\n",
    "\n",
    "data = np.recfromcsv('../data/lab4_5.csv')\n",
    "\n",
    "hurst([x[0] for x in data])\n"
   ]
  },
  {
   "cell_type": "code",
   "execution_count": 8,
   "metadata": {
    "pycharm": {
     "name": "#%%\n"
    }
   },
   "outputs": [
    {
     "name": "stdout",
     "output_type": "stream",
     "text": [
      "0.38901587687822387\n"
     ]
    },
    {
     "data": {
      "text/plain": "<Figure size 432x288 with 1 Axes>",
      "image/png": "[encoded data removed]"
     },
     "metadata": {
      "needs_background": "light"
     },
     "output_type": "display_data"
    }
   ],
   "source": [
    "import numpy as np\n",
    "import matplotlib.pyplot as plt\n",
    "from hurst import compute_Hc\n",
    "\n",
    "data = np.recfromcsv('../data/lab4_5.csv')\n",
    "\n",
    "H, c, data = compute_Hc([x[0] for x in data], simplified=False)\n",
    "print(H)\n",
    "\n",
    "# Plot\n",
    "f, ax = plt.subplots()\n",
    "ax.plot(data[0], c*data[0]**H, color=\"deepskyblue\")\n",
    "ax.scatter(data[0], data[1], color=\"purple\")\n",
    "ax.set_xscale('log')\n",
    "ax.set_yscale('log')\n",
    "ax.set_xlabel('Time interval')\n",
    "ax.set_ylabel('R/S ratio')\n",
    "ax.grid(True)\n",
    "plt.show()"
   ]
  }
 ],
 "metadata": {
  "kernelspec": {
   "display_name": "Python 3",
   "language": "python",
   "name": "python3"
  },
  "language_info": {
   "codemirror_mode": {
    "name": "ipython",
    "version": 3
   },
   "file_extension": ".py",
   "mimetype": "text/x-python",
   "name": "python",
   "nbconvert_exporter": "python",
   "pygments_lexer": "ipython3",
   "version": "3.8.3"
  }
 },
 "nbformat": 4,
 "nbformat_minor": 1
}